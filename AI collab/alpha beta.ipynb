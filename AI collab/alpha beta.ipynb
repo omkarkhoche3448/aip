{
 "cells": [
  {
   "cell_type": "code",
   "execution_count": 1,
   "id": "d7d71bee-b02f-4b68-8432-e664874d7789",
   "metadata": {},
   "outputs": [
    {
     "name": "stdout",
     "output_type": "stream",
     "text": [
      "The optimal value is: 5\n"
     ]
    }
   ],
   "source": [
    "# Initial values of Alpha and Beta\n",
    "MAX, MIN = -1000, 1000\n",
    "\n",
    "def minimax(depth, nodeIndex, maximizingPlayer, values, alpha, beta):\n",
    "    # Terminating condition. i.e leaf node is reached\n",
    "    if depth == 3:\n",
    "        return values[nodeIndex]\n",
    "   \n",
    "    if maximizingPlayer:\n",
    "        best = MAX\n",
    "   \n",
    "        # Recur for left and right children\n",
    "        for i in range(0, 2):\n",
    "            val = minimax(depth + 1, nodeIndex * 2 + i, False, values, alpha, beta)\n",
    "            best = max(best, val)\n",
    "            alpha = max(alpha, best)\n",
    "          \n",
    "            # Alpha Beta Pruning\n",
    "            if beta <= alpha:\n",
    "                break\n",
    "        return best\n",
    "    else:\n",
    "        best = MIN\n",
    "        # Recur for left and right children\n",
    "        for i in range(0, 2):\n",
    "            val = minimax(depth + 1, nodeIndex * 2 + i, True, values, alpha, beta)\n",
    "            best = min(best, val)\n",
    "            beta = min(beta, best)\n",
    "          \n",
    "            # Alpha Beta Pruning\n",
    "            if beta <= alpha:\n",
    "                break\n",
    "   \n",
    "    return best\n",
    "\n",
    "if __name__ == \"__main__\":\n",
    "   \n",
    "    values = [3, 5, 6, 9, 1, 2, 0,-1]\n",
    "    print(\"The optimal value is:\", minimax(0, 0, True, values, MAX, MIN))\n",
    "\n",
    "\n",
    "\n",
    "#The optimal value is: 4\n"
   ]
  },
  {
   "cell_type": "code",
   "execution_count": null,
   "id": "cbaaf05f-ad30-4ab0-8018-cb2367a9e398",
   "metadata": {},
   "outputs": [],
   "source": []
  }
 ],
 "metadata": {
  "kernelspec": {
   "display_name": "Python 3 (ipykernel)",
   "language": "python",
   "name": "python3"
  },
  "language_info": {
   "codemirror_mode": {
    "name": "ipython",
    "version": 3
   },
   "file_extension": ".py",
   "mimetype": "text/x-python",
   "name": "python",
   "nbconvert_exporter": "python",
   "pygments_lexer": "ipython3",
   "version": "3.12.2"
  }
 },
 "nbformat": 4,
 "nbformat_minor": 5
}
